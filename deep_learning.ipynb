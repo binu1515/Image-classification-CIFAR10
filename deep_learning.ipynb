{
  "nbformat": 4,
  "nbformat_minor": 0,
  "metadata": {
    "colab": {
      "name": "deep learning.ipynb",
      "provenance": [],
      "collapsed_sections": []
    },
    "kernelspec": {
      "display_name": "Python 3",
      "name": "python3"
    },
    "language_info": {
      "name": "python"
    }
  },
  "cells": [
    {
      "cell_type": "code",
      "metadata": {
        "id": "NWGhU0mH3__t"
      },
      "source": [
        "import tensorflow as tf\n",
        "from tensorflow.keras import datasets, layers, models\n",
        "import matplotlib.pyplot as plt\n",
        "import numpy as np"
      ],
      "execution_count": null,
      "outputs": []
    },
    {
      "cell_type": "code",
      "metadata": {
        "id": "bRHrtHL_4Jbt"
      },
      "source": [
        ""
      ],
      "execution_count": null,
      "outputs": []
    },
    {
      "cell_type": "markdown",
      "metadata": {
        "id": "mS91xCab4Ooz"
      },
      "source": [
        "load dataset\n"
      ]
    },
    {
      "cell_type": "code",
      "metadata": {
        "colab": {
          "base_uri": "https://localhost:8080/"
        },
        "id": "RYFcJ7XX4TDS",
        "outputId": "4ddfe192-dc81-498b-ab64-88cb49e04377"
      },
      "source": [
        "(X_train, y_train), (X_test,y_test) = datasets.cifar10.load_data()\n",
        "X_train.shape\n"
      ],
      "execution_count": null,
      "outputs": [
        {
          "output_type": "stream",
          "text": [
            "Downloading data from https://www.cs.toronto.edu/~kriz/cifar-10-python.tar.gz\n",
            "170500096/170498071 [==============================] - 4s 0us/step\n"
          ],
          "name": "stdout"
        },
        {
          "output_type": "execute_result",
          "data": {
            "text/plain": [
              "(50000, 32, 32, 3)"
            ]
          },
          "metadata": {
            "tags": []
          },
          "execution_count": 3
        }
      ]
    },
    {
      "cell_type": "code",
      "metadata": {
        "colab": {
          "base_uri": "https://localhost:8080/"
        },
        "id": "-CwVeRo_4dab",
        "outputId": "216b5e7e-aaec-425b-e3b1-e7d4cc007245"
      },
      "source": [
        "X_test.shape"
      ],
      "execution_count": null,
      "outputs": [
        {
          "output_type": "execute_result",
          "data": {
            "text/plain": [
              "(10000, 32, 32, 3)"
            ]
          },
          "metadata": {
            "tags": []
          },
          "execution_count": 4
        }
      ]
    },
    {
      "cell_type": "code",
      "metadata": {
        "colab": {
          "base_uri": "https://localhost:8080/"
        },
        "id": "BEo6LSrv4ql7",
        "outputId": "385c9ab4-5c16-4bd6-a857-ae86ab0e0d95"
      },
      "source": [
        "y_train.shape"
      ],
      "execution_count": null,
      "outputs": [
        {
          "output_type": "execute_result",
          "data": {
            "text/plain": [
              "(50000, 1)"
            ]
          },
          "metadata": {
            "tags": []
          },
          "execution_count": 5
        }
      ]
    },
    {
      "cell_type": "code",
      "metadata": {
        "colab": {
          "base_uri": "https://localhost:8080/"
        },
        "id": "MXSD6-is4ssC",
        "outputId": "684311cf-2b50-40c6-d294-29b957bb58f3"
      },
      "source": [
        "y_train[:5]"
      ],
      "execution_count": null,
      "outputs": [
        {
          "output_type": "execute_result",
          "data": {
            "text/plain": [
              "array([[6],\n",
              "       [9],\n",
              "       [9],\n",
              "       [4],\n",
              "       [1]], dtype=uint8)"
            ]
          },
          "metadata": {
            "tags": []
          },
          "execution_count": 6
        }
      ]
    },
    {
      "cell_type": "code",
      "metadata": {
        "colab": {
          "base_uri": "https://localhost:8080/"
        },
        "id": "jpbsmQFh5iSr",
        "outputId": "69ec61f0-ca9f-4e80-d34a-7fe2bbc70e49"
      },
      "source": [
        "y_train = y_train.reshape(-1,)\n",
        "y_train[:5]"
      ],
      "execution_count": null,
      "outputs": [
        {
          "output_type": "execute_result",
          "data": {
            "text/plain": [
              "array([6, 9, 9, 4, 1], dtype=uint8)"
            ]
          },
          "metadata": {
            "tags": []
          },
          "execution_count": 7
        }
      ]
    },
    {
      "cell_type": "code",
      "metadata": {
        "id": "9c8l3UKy5xhf"
      },
      "source": [
        "y_test = y_test.reshape(-1,)"
      ],
      "execution_count": null,
      "outputs": []
    },
    {
      "cell_type": "code",
      "metadata": {
        "id": "DFHo0DT451rA"
      },
      "source": [
        "classes = [\"airplane\",\"automobile\",\"bird\",\"cat\",\"deer\",\"dog\",\"frog\",\"horse\",\"ship\",\"truck\"]"
      ],
      "execution_count": null,
      "outputs": []
    },
    {
      "cell_type": "code",
      "metadata": {
        "id": "fC8E4wb86sM6"
      },
      "source": [
        "def plot_sample(X, y, index):\n",
        "    plt.figure(figsize = (15,2))\n",
        "    plt.imshow(X[index])\n",
        "    plt.xlabel(classes[y[index]])"
      ],
      "execution_count": null,
      "outputs": []
    },
    {
      "cell_type": "code",
      "metadata": {
        "colab": {
          "base_uri": "https://localhost:8080/",
          "height": 173
        },
        "id": "S2LeOTwW7PT3",
        "outputId": "0db7cc82-2d21-45f2-db56-eee5fdd87b61"
      },
      "source": [
        "plot_sample(X_train, y_train, 8)"
      ],
      "execution_count": null,
      "outputs": [
        {
          "output_type": "display_data",
          "data": {
            "image/png": "[encoded data removed]",
            "text/plain": [
              "<Figure size 1080x144 with 1 Axes>"
            ]
          },
          "metadata": {
            "tags": [],
            "needs_background": "light"
          }
        }
      ]
    },
    {
      "cell_type": "code",
      "metadata": {
        "colab": {
          "base_uri": "https://localhost:8080/",
          "height": 173
        },
        "id": "Aj2_xF2D9Awz",
        "outputId": "306bb961-63ad-4345-ce5a-2d681b24c0fb"
      },
      "source": [
        "plot_sample(X_train, y_train, 1)"
      ],
      "execution_count": null,
      "outputs": [
        {
          "output_type": "display_data",
          "data": {
            "image/png": "[encoded data removed]",
            "text/plain": [
              "<Figure size 1080x144 with 1 Axes>"
            ]
          },
          "metadata": {
            "tags": [],
            "needs_background": "light"
          }
        }
      ]
    },
    {
      "cell_type": "markdown",
      "metadata": {
        "id": "fgFdixse-Mqq"
      },
      "source": [
        "Normalize"
      ]
    },
    {
      "cell_type": "code",
      "metadata": {
        "id": "9QgYQZs2-PqD"
      },
      "source": [
        "X_train = X_train / 255.0\n",
        "X_test = X_test / 255.0"
      ],
      "execution_count": null,
      "outputs": []
    },
    {
      "cell_type": "markdown",
      "metadata": {
        "id": "s1rh6oG0-WCO"
      },
      "source": [
        "Build ANN for image classification"
      ]
    },
    {
      "cell_type": "code",
      "metadata": {
        "colab": {
          "base_uri": "https://localhost:8080/"
        },
        "id": "449Lp03U-c-z",
        "outputId": "88ada49a-9463-4da2-a73e-ba7c3510858c"
      },
      "source": [
        "ann = models.Sequential([\n",
        "        layers.Flatten(input_shape=(32,32,3)),\n",
        "        layers.Dense(3000, activation='relu'),\n",
        "        layers.Dense(1000, activation='relu'),\n",
        "        layers.Dense(10, activation='softmax')    \n",
        "    ])\n",
        "\n",
        "ann.compile(optimizer='SGD',\n",
        "              loss='sparse_categorical_crossentropy',\n",
        "              metrics=['accuracy'])\n",
        "\n",
        "ann.fit(X_train, y_train, epochs=5)"
      ],
      "execution_count": null,
      "outputs": [
        {
          "output_type": "stream",
          "text": [
            "Epoch 1/5\n",
            "1563/1563 [==============================] - 97s 61ms/step - loss: 1.8127 - accuracy: 0.3549\n",
            "Epoch 2/5\n",
            "1563/1563 [==============================] - 96s 61ms/step - loss: 1.6230 - accuracy: 0.4291\n",
            "Epoch 3/5\n",
            "1563/1563 [==============================] - 96s 61ms/step - loss: 1.5394 - accuracy: 0.4576\n",
            "Epoch 4/5\n",
            "1563/1563 [==============================] - 97s 62ms/step - loss: 1.4801 - accuracy: 0.4782\n",
            "Epoch 5/5\n",
            "1563/1563 [==============================] - 97s 62ms/step - loss: 1.4311 - accuracy: 0.4964\n"
          ],
          "name": "stdout"
        },
        {
          "output_type": "execute_result",
          "data": {
            "text/plain": [
              "<tensorflow.python.keras.callbacks.History at 0x7fe602558610>"
            ]
          },
          "metadata": {
            "tags": []
          },
          "execution_count": 14
        }
      ]
    },
    {
      "cell_type": "markdown",
      "metadata": {
        "id": "bOwTScvYA1Ku"
      },
      "source": [
        ""
      ]
    },
    {
      "cell_type": "code",
      "metadata": {
        "colab": {
          "base_uri": "https://localhost:8080/"
        },
        "id": "ip1jXyBuA16I",
        "outputId": "2b2308ad-1b0a-4887-eefd-eec8c6de0dce"
      },
      "source": [
        "from sklearn.metrics import confusion_matrix , classification_report\n",
        "import numpy as np\n",
        "y_pred = ann.predict(X_test)\n",
        "y_pred_classes = [np.argmax(element) for element in y_pred]\n",
        "\n",
        "print(\"Classification Report: \\n\", classification_report(y_test, y_pred_classes))"
      ],
      "execution_count": null,
      "outputs": [
        {
          "output_type": "stream",
          "text": [
            "Classification Report: \n",
            "               precision    recall  f1-score   support\n",
            "\n",
            "           0       0.52      0.56      0.54      1000\n",
            "           1       0.73      0.43      0.54      1000\n",
            "           2       0.40      0.23      0.29      1000\n",
            "           3       0.34      0.39      0.36      1000\n",
            "           4       0.43      0.42      0.42      1000\n",
            "           5       0.49      0.27      0.35      1000\n",
            "           6       0.38      0.78      0.51      1000\n",
            "           7       0.69      0.39      0.50      1000\n",
            "           8       0.55      0.70      0.62      1000\n",
            "           9       0.52      0.64      0.58      1000\n",
            "\n",
            "    accuracy                           0.48     10000\n",
            "   macro avg       0.51      0.48      0.47     10000\n",
            "weighted avg       0.51      0.48      0.47     10000\n",
            "\n"
          ],
          "name": "stdout"
        }
      ]
    },
    {
      "cell_type": "markdown",
      "metadata": {
        "id": "9epX7J05A__j"
      },
      "source": [
        "Find CNN to train images"
      ]
    },
    {
      "cell_type": "code",
      "metadata": {
        "id": "31gBdiUgBGdL"
      },
      "source": [
        "cnn = models.Sequential([\n",
        "    layers.Conv2D(filters=32, kernel_size=(3, 3), activation='relu', input_shape=(32, 32, 3)),\n",
        "    layers.MaxPooling2D((2, 2)),\n",
        "    \n",
        "    layers.Conv2D(filters=64, kernel_size=(3, 3), activation='relu'),\n",
        "    layers.MaxPooling2D((2, 2)),\n",
        "    \n",
        "    layers.Flatten(),\n",
        "    layers.Dense(64, activation='relu'),\n",
        "    layers.Dense(10, activation='softmax')\n",
        "])"
      ],
      "execution_count": null,
      "outputs": []
    },
    {
      "cell_type": "code",
      "metadata": {
        "id": "FyVnYyzZBNio"
      },
      "source": [
        "cnn.compile(optimizer='adam',\n",
        "              loss='sparse_categorical_crossentropy',\n",
        "              metrics=['accuracy'])"
      ],
      "execution_count": null,
      "outputs": []
    },
    {
      "cell_type": "code",
      "metadata": {
        "colab": {
          "base_uri": "https://localhost:8080/"
        },
        "id": "ISsE-PzMBS6U",
        "outputId": "4af2fb8a-2795-40ef-a89a-e1bd8ef7d325"
      },
      "source": [
        "cnn.fit(X_train, y_train, epochs=10)"
      ],
      "execution_count": null,
      "outputs": [
        {
          "output_type": "stream",
          "text": [
            "Epoch 1/10\n",
            "1563/1563 [==============================] - 63s 40ms/step - loss: 1.4553 - accuracy: 0.4765\n",
            "Epoch 2/10\n",
            "1563/1563 [==============================] - 63s 40ms/step - loss: 1.1133 - accuracy: 0.6120\n",
            "Epoch 3/10\n",
            "1563/1563 [==============================] - 63s 40ms/step - loss: 0.9830 - accuracy: 0.6596\n",
            "Epoch 4/10\n",
            "1563/1563 [==============================] - 63s 40ms/step - loss: 0.8998 - accuracy: 0.6889\n",
            "Epoch 5/10\n",
            "1563/1563 [==============================] - 63s 40ms/step - loss: 0.8396 - accuracy: 0.7107\n",
            "Epoch 6/10\n",
            "1563/1563 [==============================] - 63s 40ms/step - loss: 0.7863 - accuracy: 0.7263\n",
            "Epoch 7/10\n",
            "1563/1563 [==============================] - 63s 40ms/step - loss: 0.7371 - accuracy: 0.7431\n",
            "Epoch 8/10\n",
            "1563/1563 [==============================] - 62s 40ms/step - loss: 0.6962 - accuracy: 0.7586\n",
            "Epoch 9/10\n",
            "1563/1563 [==============================] - 63s 40ms/step - loss: 0.6575 - accuracy: 0.7712\n",
            "Epoch 10/10\n",
            "1563/1563 [==============================] - 63s 40ms/step - loss: 0.6202 - accuracy: 0.7820\n"
          ],
          "name": "stdout"
        },
        {
          "output_type": "execute_result",
          "data": {
            "text/plain": [
              "<tensorflow.python.keras.callbacks.History at 0x7fe5f7be7b10>"
            ]
          },
          "metadata": {
            "tags": []
          },
          "execution_count": 18
        }
      ]
    },
    {
      "cell_type": "markdown",
      "metadata": {
        "id": "_uaLoW3XD_31"
      },
      "source": [
        "With CNN, at the end 5 epochs, accuracy was at around 70% which is a significant improvement over ANN. CNN's are best for image classification and gives superb accuracy. Also computation is much less compared to simple ANN as maxpooling reduces the image dimensions while still preserving the features\n"
      ]
    },
    {
      "cell_type": "code",
      "metadata": {
        "colab": {
          "base_uri": "https://localhost:8080/"
        },
        "id": "E2PqQVyLECZk",
        "outputId": "037f8b5b-0be9-4296-b32e-573b4632d441"
      },
      "source": [
        "cnn.evaluate(X_test,y_test)"
      ],
      "execution_count": null,
      "outputs": [
        {
          "output_type": "stream",
          "text": [
            "313/313 [==============================] - 4s 12ms/step - loss: 0.9146 - accuracy: 0.7066\n"
          ],
          "name": "stdout"
        },
        {
          "output_type": "execute_result",
          "data": {
            "text/plain": [
              "[0.9146106243133545, 0.70660001039505]"
            ]
          },
          "metadata": {
            "tags": []
          },
          "execution_count": 19
        }
      ]
    },
    {
      "cell_type": "code",
      "metadata": {
        "colab": {
          "base_uri": "https://localhost:8080/"
        },
        "id": "FKV2DhTAELqH",
        "outputId": "af810e4f-51b3-4a2a-ec73-a8583fdf926b"
      },
      "source": [
        "y_pred = cnn.predict(X_test)\n",
        "y_pred[:5]"
      ],
      "execution_count": null,
      "outputs": [
        {
          "output_type": "execute_result",
          "data": {
            "text/plain": [
              "array([[1.44121656e-03, 2.97623501e-06, 9.79850520e-05, 9.11446989e-01,\n",
              "        1.41542012e-04, 5.70313223e-02, 2.40442040e-03, 8.38494307e-05,\n",
              "        2.73477454e-02, 1.93497840e-06],\n",
              "       [1.64212819e-04, 4.22532335e-02, 2.22881090e-06, 9.07559581e-07,\n",
              "        7.55096835e-07, 1.38679468e-08, 3.19196158e-09, 4.78550932e-09,\n",
              "        9.57560897e-01, 1.77463007e-05],\n",
              "       [8.43609963e-03, 1.09192375e-02, 2.07890625e-04, 2.42965086e-03,\n",
              "        3.03928304e-04, 1.38689211e-04, 7.05586135e-05, 1.98138252e-04,\n",
              "        9.73568738e-01, 3.72707285e-03],\n",
              "       [9.18753564e-01, 9.96999815e-03, 2.90106982e-03, 9.60939564e-04,\n",
              "        5.65565750e-03, 1.71310403e-05, 1.42614779e-04, 1.25071223e-04,\n",
              "        6.12700731e-02, 2.03896008e-04],\n",
              "       [2.96449684e-07, 3.97751734e-08, 1.48108206e-03, 1.58339029e-03,\n",
              "        3.94478291e-02, 1.08468645e-04, 9.57361281e-01, 1.20950759e-07,\n",
              "        1.74981396e-05, 3.89184418e-09]], dtype=float32)"
            ]
          },
          "metadata": {
            "tags": []
          },
          "execution_count": 20
        }
      ]
    },
    {
      "cell_type": "code",
      "metadata": {
        "colab": {
          "base_uri": "https://localhost:8080/"
        },
        "id": "9ryAIFz_ER_X",
        "outputId": "c4e1b477-a246-4934-db60-023700863cf5"
      },
      "source": [
        "y_classes = [np.argmax(element) for element in y_pred]\n",
        "y_classes[:5]"
      ],
      "execution_count": null,
      "outputs": [
        {
          "output_type": "execute_result",
          "data": {
            "text/plain": [
              "[3, 8, 8, 0, 6]"
            ]
          },
          "metadata": {
            "tags": []
          },
          "execution_count": 21
        }
      ]
    },
    {
      "cell_type": "code",
      "metadata": {
        "colab": {
          "base_uri": "https://localhost:8080/"
        },
        "id": "yGyGluIVEbAq",
        "outputId": "9b32cea2-f579-4ac6-c61d-7b79456c774a"
      },
      "source": [
        "y_test[:5]"
      ],
      "execution_count": null,
      "outputs": [
        {
          "output_type": "execute_result",
          "data": {
            "text/plain": [
              "array([3, 8, 8, 0, 6], dtype=uint8)"
            ]
          },
          "metadata": {
            "tags": []
          },
          "execution_count": 22
        }
      ]
    },
    {
      "cell_type": "code",
      "metadata": {
        "colab": {
          "base_uri": "https://localhost:8080/",
          "height": 173
        },
        "id": "xmqcAVE-EhnH",
        "outputId": "16ecfe60-bfd3-4565-cfb8-86ab76da235b"
      },
      "source": [
        "plot_sample(X_test, y_test,9)"
      ],
      "execution_count": null,
      "outputs": [
        {
          "output_type": "display_data",
          "data": {
            "image/png": "[encoded data removed]",
            "text/plain": [
              "<Figure size 1080x144 with 1 Axes>"
            ]
          },
          "metadata": {
            "tags": [],
            "needs_background": "light"
          }
        }
      ]
    },
    {
      "cell_type": "code",
      "metadata": {
        "colab": {
          "base_uri": "https://localhost:8080/",
          "height": 36
        },
        "id": "kJrerUboExRh",
        "outputId": "df64b8b9-650c-439c-919e-645b8719c601"
      },
      "source": [
        "classes[y_classes[2]]"
      ],
      "execution_count": null,
      "outputs": [
        {
          "output_type": "execute_result",
          "data": {
            "application/vnd.google.colaboratory.intrinsic+json": {
              "type": "string"
            },
            "text/plain": [
              "'ship'"
            ]
          },
          "metadata": {
            "tags": []
          },
          "execution_count": 28
        }
      ]
    },
    {
      "cell_type": "code",
      "metadata": {
        "id": "khpUBuLmzjpe"
      },
      "source": [
        "cnn.save('sentiment.h5')"
      ],
      "execution_count": null,
      "outputs": []
    },
    {
      "cell_type": "markdown",
      "metadata": {
        "id": "yZPO5U61IMDM"
      },
      "source": [
        "# New Section"
      ]
    }
  ]
}